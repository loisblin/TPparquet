{
 "cells": [
  {
   "cell_type": "markdown",
   "metadata": {},
   "source": [
    "## Question 1"
   ]
  },
  {
   "cell_type": "code",
   "execution_count": 14,
   "metadata": {},
   "outputs": [
    {
     "data": {
      "text/html": [
       "<div>\n",
       "<style scoped>\n",
       "    .dataframe tbody tr th:only-of-type {\n",
       "        vertical-align: middle;\n",
       "    }\n",
       "\n",
       "    .dataframe tbody tr th {\n",
       "        vertical-align: top;\n",
       "    }\n",
       "\n",
       "    .dataframe thead th {\n",
       "        text-align: right;\n",
       "    }\n",
       "</style>\n",
       "<table border=\"1\" class=\"dataframe\">\n",
       "  <thead>\n",
       "    <tr style=\"text-align: right;\">\n",
       "      <th></th>\n",
       "      <th>academie</th>\n",
       "      <th>wikipedia</th>\n",
       "      <th>vacances</th>\n",
       "      <th>dep</th>\n",
       "      <th>departement</th>\n",
       "      <th>region</th>\n",
       "    </tr>\n",
       "  </thead>\n",
       "  <tbody>\n",
       "    <tr>\n",
       "      <th>0</th>\n",
       "      <td>Académie de Lyon</td>\n",
       "      <td>fr:Académie de Lyon (éducation)</td>\n",
       "      <td>Zone A</td>\n",
       "      <td>01</td>\n",
       "      <td>Ain</td>\n",
       "      <td>Auvergne-Rhône-Alpes</td>\n",
       "    </tr>\n",
       "    <tr>\n",
       "      <th>1</th>\n",
       "      <td>Académie d'Amiens</td>\n",
       "      <td>fr:Académie d'Amiens (éducation)</td>\n",
       "      <td>Zone B</td>\n",
       "      <td>02</td>\n",
       "      <td>Aisne</td>\n",
       "      <td>Nord-Pas-de-Calais-Picardie</td>\n",
       "    </tr>\n",
       "    <tr>\n",
       "      <th>2</th>\n",
       "      <td>Académie de Clermont-Ferrand</td>\n",
       "      <td>fr:Académie de Clermont-Ferrand</td>\n",
       "      <td>Zone A</td>\n",
       "      <td>03</td>\n",
       "      <td>Allier</td>\n",
       "      <td>Auvergne-Rhône-Alpes</td>\n",
       "    </tr>\n",
       "    <tr>\n",
       "      <th>3</th>\n",
       "      <td>Académie d'Aix-Marseille</td>\n",
       "      <td>fr:Académie d'Aix-Marseille</td>\n",
       "      <td>Zone B</td>\n",
       "      <td>04</td>\n",
       "      <td>Alpes-de-Haute-Provence</td>\n",
       "      <td>Provence-Alpes-Côte d'Azur</td>\n",
       "    </tr>\n",
       "    <tr>\n",
       "      <th>4</th>\n",
       "      <td>Académie d'Aix-Marseille</td>\n",
       "      <td>fr:Académie d'Aix-Marseille</td>\n",
       "      <td>Zone B</td>\n",
       "      <td>05</td>\n",
       "      <td>Hautes-Alpes</td>\n",
       "      <td>Provence-Alpes-Côte d'Azur</td>\n",
       "    </tr>\n",
       "    <tr>\n",
       "      <th>...</th>\n",
       "      <td>...</td>\n",
       "      <td>...</td>\n",
       "      <td>...</td>\n",
       "      <td>...</td>\n",
       "      <td>...</td>\n",
       "      <td>...</td>\n",
       "    </tr>\n",
       "    <tr>\n",
       "      <th>96</th>\n",
       "      <td>Académie de Versailles</td>\n",
       "      <td>fr:Académie de Versailles (éducation)</td>\n",
       "      <td>Zone C</td>\n",
       "      <td>95</td>\n",
       "      <td>Val-d'Oise</td>\n",
       "      <td>Île-de-France</td>\n",
       "    </tr>\n",
       "    <tr>\n",
       "      <th>97</th>\n",
       "      <td>Académie de la Guadeloupe</td>\n",
       "      <td>fr:Académie de la Guadeloupe</td>\n",
       "      <td>NaN</td>\n",
       "      <td>971</td>\n",
       "      <td>Guadeloupe</td>\n",
       "      <td>Guadeloupe</td>\n",
       "    </tr>\n",
       "    <tr>\n",
       "      <th>98</th>\n",
       "      <td>Académie de la Martinique</td>\n",
       "      <td>fr:Académie de la Martinique</td>\n",
       "      <td>NaN</td>\n",
       "      <td>972</td>\n",
       "      <td>Martinique</td>\n",
       "      <td>Martinique</td>\n",
       "    </tr>\n",
       "    <tr>\n",
       "      <th>99</th>\n",
       "      <td>Académie de Guyane</td>\n",
       "      <td>fr:Académie de la Guyane</td>\n",
       "      <td>NaN</td>\n",
       "      <td>973</td>\n",
       "      <td>Guyane</td>\n",
       "      <td>Guyane</td>\n",
       "    </tr>\n",
       "    <tr>\n",
       "      <th>100</th>\n",
       "      <td>Académie de la Réunion</td>\n",
       "      <td>fr:Académie de La Réunion</td>\n",
       "      <td>NaN</td>\n",
       "      <td>974</td>\n",
       "      <td>La Réunion</td>\n",
       "      <td>La Réunion</td>\n",
       "    </tr>\n",
       "  </tbody>\n",
       "</table>\n",
       "<p>101 rows × 6 columns</p>\n",
       "</div>"
      ],
      "text/plain": [
       "                         academie                              wikipedia  \\\n",
       "0                Académie de Lyon        fr:Académie de Lyon (éducation)   \n",
       "1               Académie d'Amiens       fr:Académie d'Amiens (éducation)   \n",
       "2    Académie de Clermont-Ferrand        fr:Académie de Clermont-Ferrand   \n",
       "3        Académie d'Aix-Marseille            fr:Académie d'Aix-Marseille   \n",
       "4        Académie d'Aix-Marseille            fr:Académie d'Aix-Marseille   \n",
       "..                            ...                                    ...   \n",
       "96         Académie de Versailles  fr:Académie de Versailles (éducation)   \n",
       "97      Académie de la Guadeloupe           fr:Académie de la Guadeloupe   \n",
       "98      Académie de la Martinique           fr:Académie de la Martinique   \n",
       "99             Académie de Guyane               fr:Académie de la Guyane   \n",
       "100        Académie de la Réunion              fr:Académie de La Réunion   \n",
       "\n",
       "    vacances  dep              departement                       region  \n",
       "0     Zone A   01                      Ain         Auvergne-Rhône-Alpes  \n",
       "1     Zone B   02                    Aisne  Nord-Pas-de-Calais-Picardie  \n",
       "2     Zone A   03                   Allier         Auvergne-Rhône-Alpes  \n",
       "3     Zone B   04  Alpes-de-Haute-Provence   Provence-Alpes-Côte d'Azur  \n",
       "4     Zone B   05             Hautes-Alpes   Provence-Alpes-Côte d'Azur  \n",
       "..       ...  ...                      ...                          ...  \n",
       "96    Zone C   95               Val-d'Oise                Île-de-France  \n",
       "97       NaN  971               Guadeloupe                   Guadeloupe  \n",
       "98       NaN  972               Martinique                   Martinique  \n",
       "99       NaN  973                   Guyane                       Guyane  \n",
       "100      NaN  974               La Réunion                   La Réunion  \n",
       "\n",
       "[101 rows x 6 columns]"
      ]
     },
     "execution_count": 14,
     "metadata": {},
     "output_type": "execute_result"
    }
   ],
   "source": [
    "from fonction import *\n",
    "import pandas as pd\n",
    "\n",
    "df_academie = pd.read_csv(\"academies_virgule.csv\")\n",
    "df_academie"
   ]
  },
  {
   "cell_type": "code",
   "execution_count": 2,
   "metadata": {},
   "outputs": [
    {
     "data": {
      "text/plain": [
       "pyarrow.Table\n",
       "academie: string\n",
       "wikipedia: string\n",
       "vacances: string\n",
       "dep: string\n",
       "departement: string\n",
       "region: string\n",
       "----\n",
       "academie: [[\"Académie de Lyon\",\"Académie d'Amiens\",\"Académie de Clermont-Ferrand\",\"Académie d'Aix-Marseille\",\"Académie d'Aix-Marseille\",...,\"Académie de Versailles\",\"Académie de la Guadeloupe\",\"Académie de la Martinique\",\"Académie de Guyane\",\"Académie de la Réunion\"]]\n",
       "wikipedia: [[\"fr:Académie de Lyon (éducation)\",\"fr:Académie d'Amiens (éducation)\",\"fr:Académie de Clermont-Ferrand\",\"fr:Académie d'Aix-Marseille\",\"fr:Académie d'Aix-Marseille\",...,\"fr:Académie de Versailles (éducation)\",\"fr:Académie de la Guadeloupe\",\"fr:Académie de la Martinique\",\"fr:Académie de la Guyane\",\"fr:Académie de La Réunion\"]]\n",
       "vacances: [[\"Zone A\",\"Zone B\",\"Zone A\",\"Zone B\",\"Zone B\",...,\"Zone C\",null,null,null,null]]\n",
       "dep: [[\"01\",\"02\",\"03\",\"04\",\"05\",...,\"95\",\"971\",\"972\",\"973\",\"974\"]]\n",
       "departement: [[\"Ain\",\"Aisne\",\"Allier\",\"Alpes-de-Haute-Provence\",\"Hautes-Alpes\",...,\"Val-d'Oise\",\"Guadeloupe\",\"Martinique\",\"Guyane\",\"La Réunion\"]]\n",
       "region: [[\"Auvergne-Rhône-Alpes\",\"Nord-Pas-de-Calais-Picardie\",\"Auvergne-Rhône-Alpes\",\"Provence-Alpes-Côte d'Azur\",\"Provence-Alpes-Côte d'Azur\",...,\"Île-de-France\",\"Guadeloupe\",\"Martinique\",\"Guyane\",\"La Réunion\"]]"
      ]
     },
     "execution_count": 2,
     "metadata": {},
     "output_type": "execute_result"
    }
   ],
   "source": [
    "from fonction import *\n",
    "table_academie = dataframe_to_table(df_academie)\n",
    "table_academie"
   ]
  },
  {
   "cell_type": "code",
   "execution_count": 3,
   "metadata": {},
   "outputs": [],
   "source": [
    "parquet_file = 'academie.parquet'\n",
    "table_to_parquet(table_academie, parquet_file)"
   ]
  },
  {
   "cell_type": "code",
   "execution_count": 4,
   "metadata": {},
   "outputs": [
    {
     "data": {
      "text/plain": [
       "pyarrow.Table\n",
       "academie: string\n",
       "wikipedia: string\n",
       "vacances: string\n",
       "dep: string\n",
       "departement: string\n",
       "region: string\n",
       "----\n",
       "academie: [[\"Académie de Lyon\",\"Académie d'Amiens\",\"Académie de Clermont-Ferrand\",\"Académie d'Aix-Marseille\",\"Académie d'Aix-Marseille\",...,\"Académie de Versailles\",\"Académie de la Guadeloupe\",\"Académie de la Martinique\",\"Académie de Guyane\",\"Académie de la Réunion\"]]\n",
       "wikipedia: [[\"fr:Académie de Lyon (éducation)\",\"fr:Académie d'Amiens (éducation)\",\"fr:Académie de Clermont-Ferrand\",\"fr:Académie d'Aix-Marseille\",\"fr:Académie d'Aix-Marseille\",...,\"fr:Académie de Versailles (éducation)\",\"fr:Académie de la Guadeloupe\",\"fr:Académie de la Martinique\",\"fr:Académie de la Guyane\",\"fr:Académie de La Réunion\"]]\n",
       "vacances: [[\"Zone A\",\"Zone B\",\"Zone A\",\"Zone B\",\"Zone B\",...,\"Zone C\",null,null,null,null]]\n",
       "dep: [[\"01\",\"02\",\"03\",\"04\",\"05\",...,\"95\",\"971\",\"972\",\"973\",\"974\"]]\n",
       "departement: [[\"Ain\",\"Aisne\",\"Allier\",\"Alpes-de-Haute-Provence\",\"Hautes-Alpes\",...,\"Val-d'Oise\",\"Guadeloupe\",\"Martinique\",\"Guyane\",\"La Réunion\"]]\n",
       "region: [[\"Auvergne-Rhône-Alpes\",\"Nord-Pas-de-Calais-Picardie\",\"Auvergne-Rhône-Alpes\",\"Provence-Alpes-Côte d'Azur\",\"Provence-Alpes-Côte d'Azur\",...,\"Île-de-France\",\"Guadeloupe\",\"Martinique\",\"Guyane\",\"La Réunion\"]]"
      ]
     },
     "execution_count": 4,
     "metadata": {},
     "output_type": "execute_result"
    }
   ],
   "source": [
    "parquet_to_table('academie.parquet')"
   ]
  },
  {
   "cell_type": "code",
   "execution_count": 5,
   "metadata": {},
   "outputs": [
    {
     "data": {
      "text/html": [
       "<div>\n",
       "<style scoped>\n",
       "    .dataframe tbody tr th:only-of-type {\n",
       "        vertical-align: middle;\n",
       "    }\n",
       "\n",
       "    .dataframe tbody tr th {\n",
       "        vertical-align: top;\n",
       "    }\n",
       "\n",
       "    .dataframe thead th {\n",
       "        text-align: right;\n",
       "    }\n",
       "</style>\n",
       "<table border=\"1\" class=\"dataframe\">\n",
       "  <thead>\n",
       "    <tr style=\"text-align: right;\">\n",
       "      <th></th>\n",
       "      <th>dep</th>\n",
       "      <th>nom</th>\n",
       "      <th>cp</th>\n",
       "      <th>nb_hab_2010</th>\n",
       "      <th>nb_hab_1999</th>\n",
       "      <th>nb_hab_2012</th>\n",
       "      <th>dens</th>\n",
       "      <th>surf</th>\n",
       "      <th>long</th>\n",
       "      <th>lat</th>\n",
       "      <th>alt_min</th>\n",
       "      <th>alt_max</th>\n",
       "    </tr>\n",
       "  </thead>\n",
       "  <tbody>\n",
       "    <tr>\n",
       "      <th>0</th>\n",
       "      <td>1</td>\n",
       "      <td>Ozan</td>\n",
       "      <td>1190</td>\n",
       "      <td>618</td>\n",
       "      <td>469</td>\n",
       "      <td>500</td>\n",
       "      <td>93</td>\n",
       "      <td>6.60</td>\n",
       "      <td>4.91667</td>\n",
       "      <td>46.38330</td>\n",
       "      <td>170.0</td>\n",
       "      <td>205.0</td>\n",
       "    </tr>\n",
       "    <tr>\n",
       "      <th>1</th>\n",
       "      <td>1</td>\n",
       "      <td>Cormoranche-sur-Saône</td>\n",
       "      <td>1290</td>\n",
       "      <td>1058</td>\n",
       "      <td>903</td>\n",
       "      <td>1000</td>\n",
       "      <td>107</td>\n",
       "      <td>9.85</td>\n",
       "      <td>4.83333</td>\n",
       "      <td>46.23330</td>\n",
       "      <td>168.0</td>\n",
       "      <td>211.0</td>\n",
       "    </tr>\n",
       "    <tr>\n",
       "      <th>2</th>\n",
       "      <td>1</td>\n",
       "      <td>Plagne</td>\n",
       "      <td>1130</td>\n",
       "      <td>129</td>\n",
       "      <td>83</td>\n",
       "      <td>100</td>\n",
       "      <td>20</td>\n",
       "      <td>6.20</td>\n",
       "      <td>5.73333</td>\n",
       "      <td>46.18330</td>\n",
       "      <td>560.0</td>\n",
       "      <td>922.0</td>\n",
       "    </tr>\n",
       "    <tr>\n",
       "      <th>3</th>\n",
       "      <td>1</td>\n",
       "      <td>Tossiat</td>\n",
       "      <td>1250</td>\n",
       "      <td>1406</td>\n",
       "      <td>1111</td>\n",
       "      <td>1400</td>\n",
       "      <td>138</td>\n",
       "      <td>10.17</td>\n",
       "      <td>5.31667</td>\n",
       "      <td>46.13330</td>\n",
       "      <td>244.0</td>\n",
       "      <td>501.0</td>\n",
       "    </tr>\n",
       "    <tr>\n",
       "      <th>4</th>\n",
       "      <td>1</td>\n",
       "      <td>Pouillat</td>\n",
       "      <td>1250</td>\n",
       "      <td>88</td>\n",
       "      <td>58</td>\n",
       "      <td>100</td>\n",
       "      <td>14</td>\n",
       "      <td>6.23</td>\n",
       "      <td>5.43333</td>\n",
       "      <td>46.33330</td>\n",
       "      <td>333.0</td>\n",
       "      <td>770.0</td>\n",
       "    </tr>\n",
       "    <tr>\n",
       "      <th>...</th>\n",
       "      <td>...</td>\n",
       "      <td>...</td>\n",
       "      <td>...</td>\n",
       "      <td>...</td>\n",
       "      <td>...</td>\n",
       "      <td>...</td>\n",
       "      <td>...</td>\n",
       "      <td>...</td>\n",
       "      <td>...</td>\n",
       "      <td>...</td>\n",
       "      <td>...</td>\n",
       "      <td>...</td>\n",
       "    </tr>\n",
       "    <tr>\n",
       "      <th>36695</th>\n",
       "      <td>976</td>\n",
       "      <td>Sada</td>\n",
       "      <td>97640</td>\n",
       "      <td>10195</td>\n",
       "      <td>10195</td>\n",
       "      <td>10195</td>\n",
       "      <td>933</td>\n",
       "      <td>10.92</td>\n",
       "      <td>45.10470</td>\n",
       "      <td>-12.84860</td>\n",
       "      <td>NaN</td>\n",
       "      <td>NaN</td>\n",
       "    </tr>\n",
       "    <tr>\n",
       "      <th>36696</th>\n",
       "      <td>976</td>\n",
       "      <td>Tsingoni</td>\n",
       "      <td>97680</td>\n",
       "      <td>10454</td>\n",
       "      <td>10454</td>\n",
       "      <td>10454</td>\n",
       "      <td>300</td>\n",
       "      <td>34.76</td>\n",
       "      <td>45.10700</td>\n",
       "      <td>-12.78970</td>\n",
       "      <td>NaN</td>\n",
       "      <td>NaN</td>\n",
       "    </tr>\n",
       "    <tr>\n",
       "      <th>36697</th>\n",
       "      <td>971</td>\n",
       "      <td>Saint-Barthélemy</td>\n",
       "      <td>97133</td>\n",
       "      <td>8938</td>\n",
       "      <td>8938</td>\n",
       "      <td>8938</td>\n",
       "      <td>372</td>\n",
       "      <td>24.00</td>\n",
       "      <td>-62.83330</td>\n",
       "      <td>17.91670</td>\n",
       "      <td>NaN</td>\n",
       "      <td>NaN</td>\n",
       "    </tr>\n",
       "    <tr>\n",
       "      <th>36698</th>\n",
       "      <td>971</td>\n",
       "      <td>Saint-Martin</td>\n",
       "      <td>97150</td>\n",
       "      <td>36979</td>\n",
       "      <td>36979</td>\n",
       "      <td>36979</td>\n",
       "      <td>695</td>\n",
       "      <td>53.20</td>\n",
       "      <td>18.09130</td>\n",
       "      <td>-63.08290</td>\n",
       "      <td>NaN</td>\n",
       "      <td>NaN</td>\n",
       "    </tr>\n",
       "    <tr>\n",
       "      <th>36699</th>\n",
       "      <td>975</td>\n",
       "      <td>Saint-Pierre-et-Miquelon</td>\n",
       "      <td>97500</td>\n",
       "      <td>6080</td>\n",
       "      <td>6080</td>\n",
       "      <td>6080</td>\n",
       "      <td>25</td>\n",
       "      <td>242.00</td>\n",
       "      <td>46.71070</td>\n",
       "      <td>1.71819</td>\n",
       "      <td>NaN</td>\n",
       "      <td>NaN</td>\n",
       "    </tr>\n",
       "  </tbody>\n",
       "</table>\n",
       "<p>36700 rows × 12 columns</p>\n",
       "</div>"
      ],
      "text/plain": [
       "       dep                       nom     cp  nb_hab_2010  nb_hab_1999  \\\n",
       "0        1                      Ozan   1190          618          469   \n",
       "1        1     Cormoranche-sur-Saône   1290         1058          903   \n",
       "2        1                    Plagne   1130          129           83   \n",
       "3        1                   Tossiat   1250         1406         1111   \n",
       "4        1                  Pouillat   1250           88           58   \n",
       "...    ...                       ...    ...          ...          ...   \n",
       "36695  976                      Sada  97640        10195        10195   \n",
       "36696  976                  Tsingoni  97680        10454        10454   \n",
       "36697  971          Saint-Barthélemy  97133         8938         8938   \n",
       "36698  971              Saint-Martin  97150        36979        36979   \n",
       "36699  975  Saint-Pierre-et-Miquelon  97500         6080         6080   \n",
       "\n",
       "       nb_hab_2012  dens    surf      long       lat  alt_min  alt_max  \n",
       "0              500    93    6.60   4.91667  46.38330    170.0    205.0  \n",
       "1             1000   107    9.85   4.83333  46.23330    168.0    211.0  \n",
       "2              100    20    6.20   5.73333  46.18330    560.0    922.0  \n",
       "3             1400   138   10.17   5.31667  46.13330    244.0    501.0  \n",
       "4              100    14    6.23   5.43333  46.33330    333.0    770.0  \n",
       "...            ...   ...     ...       ...       ...      ...      ...  \n",
       "36695        10195   933   10.92  45.10470 -12.84860      NaN      NaN  \n",
       "36696        10454   300   34.76  45.10700 -12.78970      NaN      NaN  \n",
       "36697         8938   372   24.00 -62.83330  17.91670      NaN      NaN  \n",
       "36698        36979   695   53.20  18.09130 -63.08290      NaN      NaN  \n",
       "36699         6080    25  242.00  46.71070   1.71819      NaN      NaN  \n",
       "\n",
       "[36700 rows x 12 columns]"
      ]
     },
     "execution_count": 5,
     "metadata": {},
     "output_type": "execute_result"
    }
   ],
   "source": [
    "df_ville=pd.read_csv('villes_virgule.csv')\n",
    "df_ville"
   ]
  },
  {
   "cell_type": "code",
   "execution_count": 6,
   "metadata": {},
   "outputs": [
    {
     "data": {
      "text/plain": [
       "pyarrow.Table\n",
       "dep: string\n",
       "nom: string\n",
       "cp: string\n",
       "nb_hab_2010: int64\n",
       "nb_hab_1999: int64\n",
       "nb_hab_2012: int64\n",
       "dens: int64\n",
       "surf: double\n",
       "long: double\n",
       "lat: double\n",
       "alt_min: double\n",
       "alt_max: double\n",
       "----\n",
       "dep: [[\"1\",\"1\",\"1\",\"1\",\"1\",...,\"976\",\"976\",\"971\",\"971\",\"975\"]]\n",
       "nom: [[\"Ozan\",\"Cormoranche-sur-Saône\",\"Plagne\",\"Tossiat\",\"Pouillat\",...,\"Sada\",\"Tsingoni\",\"Saint-Barthélemy\",\"Saint-Martin\",\"Saint-Pierre-et-Miquelon\"]]\n",
       "cp: [[\"1190\",\"1290\",\"1130\",\"1250\",\"1250\",...,\"97640\",\"97680\",\"97133\",\"97150\",\"97500\"]]\n",
       "nb_hab_2010: [[618,1058,129,1406,88,...,10195,10454,8938,36979,6080]]\n",
       "nb_hab_1999: [[469,903,83,1111,58,...,10195,10454,8938,36979,6080]]\n",
       "nb_hab_2012: [[500,1000,100,1400,100,...,10195,10454,8938,36979,6080]]\n",
       "dens: [[93,107,20,138,14,...,933,300,372,695,25]]\n",
       "surf: [[6.6,9.85,6.2,10.17,6.23,...,10.92,34.76,24,53.2,242]]\n",
       "long: [[4.91667,4.83333,5.73333,5.31667,5.43333,...,45.1047,45.107,-62.8333,18.0913,46.7107]]\n",
       "lat: [[46.3833,46.2333,46.1833,46.1333,46.3333,...,-12.8486,-12.7897,17.9167,-63.0829,1.71819]]\n",
       "..."
      ]
     },
     "execution_count": 6,
     "metadata": {},
     "output_type": "execute_result"
    }
   ],
   "source": [
    "table_ville = dataframe_to_table(df_ville)\n",
    "table_ville "
   ]
  },
  {
   "cell_type": "code",
   "execution_count": 7,
   "metadata": {},
   "outputs": [],
   "source": [
    "parquet_file = 'ville.parquet'\n",
    "table_to_parquet(table_ville, parquet_file)"
   ]
  },
  {
   "cell_type": "code",
   "execution_count": 8,
   "metadata": {},
   "outputs": [
    {
     "data": {
      "text/plain": [
       "pyarrow.Table\n",
       "dep: string\n",
       "nom: string\n",
       "cp: string\n",
       "nb_hab_2010: int64\n",
       "nb_hab_1999: int64\n",
       "nb_hab_2012: int64\n",
       "dens: int64\n",
       "surf: double\n",
       "long: double\n",
       "lat: double\n",
       "alt_min: double\n",
       "alt_max: double\n",
       "----\n",
       "dep: [[\"1\",\"1\",\"1\",\"1\",\"1\",...,\"976\",\"976\",\"971\",\"971\",\"975\"]]\n",
       "nom: [[\"Ozan\",\"Cormoranche-sur-Saône\",\"Plagne\",\"Tossiat\",\"Pouillat\",...,\"Sada\",\"Tsingoni\",\"Saint-Barthélemy\",\"Saint-Martin\",\"Saint-Pierre-et-Miquelon\"]]\n",
       "cp: [[\"1190\",\"1290\",\"1130\",\"1250\",\"1250\",...,\"97640\",\"97680\",\"97133\",\"97150\",\"97500\"]]\n",
       "nb_hab_2010: [[618,1058,129,1406,88,...,10195,10454,8938,36979,6080]]\n",
       "nb_hab_1999: [[469,903,83,1111,58,...,10195,10454,8938,36979,6080]]\n",
       "nb_hab_2012: [[500,1000,100,1400,100,...,10195,10454,8938,36979,6080]]\n",
       "dens: [[93,107,20,138,14,...,933,300,372,695,25]]\n",
       "surf: [[6.6,9.85,6.2,10.17,6.23,...,10.92,34.76,24,53.2,242]]\n",
       "long: [[4.91667,4.83333,5.73333,5.31667,5.43333,...,45.1047,45.107,-62.8333,18.0913,46.7107]]\n",
       "lat: [[46.3833,46.2333,46.1833,46.1333,46.3333,...,-12.8486,-12.7897,17.9167,-63.0829,1.71819]]\n",
       "..."
      ]
     },
     "execution_count": 8,
     "metadata": {},
     "output_type": "execute_result"
    }
   ],
   "source": [
    "parquet_to_table('ville.parquet')"
   ]
  },
  {
   "cell_type": "markdown",
   "metadata": {},
   "source": [
    "## Question 2"
   ]
  },
  {
   "cell_type": "code",
   "execution_count": 9,
   "metadata": {},
   "outputs": [
    {
     "name": "stdout",
     "output_type": "stream",
     "text": [
      "Table Schema:\n",
      "academie: string\n",
      "wikipedia: string\n",
      "vacances: string\n",
      "dep: string\n",
      "departement: string\n",
      "region: string\n"
     ]
    }
   ],
   "source": [
    "display_table_schema(table_academie)"
   ]
  },
  {
   "cell_type": "code",
   "execution_count": 10,
   "metadata": {},
   "outputs": [
    {
     "name": "stdout",
     "output_type": "stream",
     "text": [
      "Table Schema:\n",
      "dep: string\n",
      "nom: string\n",
      "cp: string\n",
      "nb_hab_2010: int64\n",
      "nb_hab_1999: int64\n",
      "nb_hab_2012: int64\n",
      "dens: int64\n",
      "surf: double\n",
      "long: double\n",
      "lat: double\n",
      "alt_min: double\n",
      "alt_max: double\n"
     ]
    }
   ],
   "source": [
    "display_table_schema(table_ville)"
   ]
  },
  {
   "cell_type": "markdown",
   "metadata": {},
   "source": [
    "## Question 3"
   ]
  },
  {
   "cell_type": "code",
   "execution_count": 11,
   "metadata": {},
   "outputs": [
    {
     "data": {
      "text/plain": [
       "<pyarrow.lib.ChunkedArray object at 0x00000219E4A19C60>\n",
       "[\n",
       "  [\n",
       "    \"Ozan\",\n",
       "    \"Cormoranche-sur-Saône\",\n",
       "    \"Plagne\",\n",
       "    \"Tossiat\",\n",
       "    \"Pouillat\",\n",
       "    ...\n",
       "    \"Sada\",\n",
       "    \"Tsingoni\",\n",
       "    \"Saint-Barthélemy\",\n",
       "    \"Saint-Martin\",\n",
       "    \"Saint-Pierre-et-Miquelon\"\n",
       "  ]\n",
       "]"
      ]
     },
     "execution_count": 11,
     "metadata": {},
     "output_type": "execute_result"
    }
   ],
   "source": [
    "get_column(table_ville,'nom')"
   ]
  },
  {
   "cell_type": "code",
   "execution_count": 13,
   "metadata": {},
   "outputs": [
    {
     "data": {
      "text/plain": [
       "<pyarrow.lib.ChunkedArray object at 0x00000219E493FD80>\n",
       "[\n",
       "  [\n",
       "    \"01\",\n",
       "    \"02\",\n",
       "    \"03\",\n",
       "    \"04\",\n",
       "    \"05\",\n",
       "    ...\n",
       "    \"95\",\n",
       "    \"971\",\n",
       "    \"972\",\n",
       "    \"973\",\n",
       "    \"974\"\n",
       "  ]\n",
       "]"
      ]
     },
     "execution_count": 13,
     "metadata": {},
     "output_type": "execute_result"
    }
   ],
   "source": [
    "get_column(table_academie,'dep')"
   ]
  },
  {
   "cell_type": "markdown",
   "metadata": {},
   "source": [
    "## Question 4"
   ]
  },
  {
   "cell_type": "markdown",
   "metadata": {},
   "source": [
    "f"
   ]
  }
 ],
 "metadata": {
  "kernelspec": {
   "display_name": "Python 3",
   "language": "python",
   "name": "python3"
  },
  "language_info": {
   "codemirror_mode": {
    "name": "ipython",
    "version": 3
   },
   "file_extension": ".py",
   "mimetype": "text/x-python",
   "name": "python",
   "nbconvert_exporter": "python",
   "pygments_lexer": "ipython3",
   "version": "3.12.1"
  }
 },
 "nbformat": 4,
 "nbformat_minor": 2
}
